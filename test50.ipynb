{
 "cells": [
  {
   "cell_type": "code",
   "execution_count": null,
   "metadata": {},
   "outputs": [],
   "source": [
    "\"\"\"\"Objective - To perform image pre-processing for images in the dataset, load the model to train it and export the model.\"\"\""
   ]
  },
  {
   "cell_type": "code",
   "execution_count": 1,
   "metadata": {},
   "outputs": [],
   "source": [
    "import joblib\n",
    "import numpy as np\n",
    "import matplotlib.pyplot as plt\n",
    "from sklearn.feature_extraction import image\n",
    "from sklearn.decomposition import PCA\n",
    "from sklearn.pipeline import Pipeline\n",
    "from sklearn.neighbors import KNeighborsClassifier"
   ]
  },
  {
   "cell_type": "code",
   "execution_count": 2,
   "metadata": {},
   "outputs": [],
   "source": [
    "def prep_data(filePath,size,patches=5):\n",
    "    images, _ = joblib.load(filePath)\n",
    "    patch_extractor = image.PatchExtractor(patch_size=(size, size), max_patches=patches, random_state=42)\n",
    "    sub_images = patch_extractor.transform(images)\n",
    "\n",
    "    sub_images_rot = np.zeros(sub_images.shape)\n",
    "\n",
    "    labels = np.zeros(sub_images.shape[0])\n",
    "    for i in range(sub_images.shape[0]):\n",
    "        random_k = np.random.randint(0, 4)\n",
    "        labels[i] = random_k\n",
    "        sub_images_rot[i] = np.rot90(sub_images[i], k=random_k, axes=(0, 1))\n",
    "\n",
    "    features = sub_images_rot.reshape(len(sub_images), -1)\n",
    "    dataset = {'features': features, 'labels': labels}\n",
    "    return dataset"
   ]
  },
  {
   "cell_type": "code",
   "execution_count": 3,
   "metadata": {},
   "outputs": [],
   "source": [
    "#filePath_train = 'data/train.full.joblib'\n",
    "filePath_train = 'data/train.small.joblib'\n",
    "\n",
    "filePath_test = 'data/eval1.joblib'\n",
    "size = 50\n",
    "patches = 4"
   ]
  },
  {
   "cell_type": "code",
   "execution_count": 4,
   "metadata": {},
   "outputs": [],
   "source": [
    "train_data = prep_data(filePath_train,size,patches)"
   ]
  },
  {
   "cell_type": "code",
   "execution_count": 5,
   "metadata": {},
   "outputs": [],
   "source": [
    "eval_data = joblib.load(open(filePath_test, \"rb\"))[size]\n",
    "x_test = eval_data[\"x_test\"]\n",
    "y_test = eval_data[\"y_test\"]"
   ]
  },
  {
   "cell_type": "code",
   "execution_count": 7,
   "metadata": {},
   "outputs": [
    {
     "data": {
      "text/plain": [
       "0.7085"
      ]
     },
     "execution_count": 7,
     "metadata": {},
     "output_type": "execute_result"
    }
   ],
   "source": [
    "from sklearn.neural_network import MLPClassifier\n",
    "\n",
    "pca2 = PCA(n_components=50)\n",
    "mlp = MLPClassifier(activation='tanh',alpha=0.1,hidden_layer_sizes=(200),max_iter=500)\n",
    "model4 = Pipeline([('pca', pca2), ('mlp', mlp)])\n",
    "\n",
    "model4.fit(train_data['features'], train_data['labels'])\n",
    "model4.score(x_test, y_test)"
   ]
  },
  {
   "cell_type": "code",
   "execution_count": null,
   "metadata": {},
   "outputs": [],
   "source": [
    "\"\"\"\n",
    "hidden_layer_sizes = (100) --> 0.63\n",
    "hidden_layer_sizes = (100,100) --> 0.6665\n",
    "hidden_layer_sizes = (100,100,100) --> 0.6445\n",
    "hidden_layer_sizes = (50,50) --> 0.6355\n",
    "hidden_layer_sizes = (200,200) --> 0.716\n",
    "\n",
    "activation = 'relu' --> 0.694\n",
    "activation = 'tanh' --> 0.704\n",
    "activation = 'logistic' --> 0.68\n",
    "activation = 'identity' --> 0.456\n",
    "\n",
    "alpha = 0.1 --> 0.714\n",
    "alpha = 0.01 --> 0.71\n",
    "alpha = 0.001 --> 0.70\n",
    "alpha = 0.0001 --> 0.71.5\n",
    "\n",
    "n_components = 50   --> 0.668\n",
    "n_components = 100  --> 0.6695\n",
    "n_components = 200  --> 0.629\n",
    "\"\"\""
   ]
  },
  {
   "cell_type": "code",
   "execution_count": null,
   "metadata": {},
   "outputs": [],
   "source": []
  },
  {
   "cell_type": "code",
   "execution_count": null,
   "metadata": {},
   "outputs": [],
   "source": []
  },
  {
   "cell_type": "code",
   "execution_count": null,
   "metadata": {},
   "outputs": [],
   "source": []
  },
  {
   "cell_type": "code",
   "execution_count": 22,
   "metadata": {},
   "outputs": [
    {
     "data": {
      "text/plain": [
       "0.718"
      ]
     },
     "execution_count": 22,
     "metadata": {},
     "output_type": "execute_result"
    }
   ],
   "source": [
    "pca = PCA(n_components=90)\n",
    "knn = KNeighborsClassifier(n_neighbors=1)\n",
    "model_90 = Pipeline([('pca', pca), ('knn', knn)])\n",
    "\n",
    "model_90.fit(train_data['features'], train_data['labels'])\n",
    "\n",
    "model_90.score(x_test, y_test)"
   ]
  },
  {
   "cell_type": "code",
   "execution_count": 23,
   "metadata": {},
   "outputs": [
    {
     "data": {
      "text/plain": [
       "0.785"
      ]
     },
     "execution_count": 23,
     "metadata": {},
     "output_type": "execute_result"
    }
   ],
   "source": [
    "# SVC - Params: kernel, C\n",
    "\n",
    "from sklearn.svm import SVC\n",
    "\n",
    "pca2 = PCA(n_components=45)\n",
    "svc = SVC(C = 10,kernel='rbf')\n",
    "model3 = Pipeline([('pca', pca2), ('svc', svc)])\n",
    "\n",
    "model3.fit(train_data['features'], train_data['labels'])\n",
    "model3.score(x_test, y_test)"
   ]
  },
  {
   "cell_type": "code",
   "execution_count": null,
   "metadata": {},
   "outputs": [],
   "source": [
    "\"\"\"\n",
    "C = 1 - 0.643\n",
    "C = 10 - 0.6895\n",
    "C = 20 - 0.686\n",
    "C = 50 - 0.676\n",
    "\n",
    "n_components = 45 - 0.697\n",
    "n_components = 90 - 0.6895\n",
    "n_components = 180 - 0.679\n",
    "\"\"\""
   ]
  },
  {
   "cell_type": "code",
   "execution_count": 26,
   "metadata": {},
   "outputs": [],
   "source": [
    "neigh = range(1,12)\n",
    "\n",
    "acc = []\n",
    "\n",
    "for n in neigh:\n",
    "    knn = KNeighborsClassifier(n_neighbors=n)\n",
    "    model = Pipeline([('pca', pca), ('knn', knn)])\n",
    "    model.fit(train_data['features'], train_data['labels'])\n",
    "    acc.append(model.score(x_test, y_test))"
   ]
  },
  {
   "cell_type": "code",
   "execution_count": 27,
   "metadata": {},
   "outputs": [
    {
     "data": {
      "text/plain": [
       "0.7375"
      ]
     },
     "execution_count": 27,
     "metadata": {},
     "output_type": "execute_result"
    }
   ],
   "source": [
    "bestParam = neigh[np.argmax(acc)]\n",
    "\n",
    "knn = KNeighborsClassifier(n_neighbors=bestParam)\n",
    "model = Pipeline([('pca', pca), ('knn', knn)])\n",
    "model.fit(train_data['features'], train_data['labels'])\n",
    "model.score(x_test, y_test)"
   ]
  },
  {
   "cell_type": "code",
   "execution_count": null,
   "metadata": {},
   "outputs": [
    {
     "data": {
      "text/plain": [
       "{'criterion': 'gini', 'max_depth': 30, 'n_estimators': 200}"
      ]
     },
     "metadata": {},
     "output_type": "display_data"
    }
   ],
   "source": [
    "#RandomForestClassifier - Params: n_estimators, max_depth, criterion\n",
    "from sklearn.ensemble import RandomForestClassifier\n",
    "from sklearn.model_selection import GridSearchCV\n",
    "\n",
    "param_grid = {\n",
    "    'n_estimators': [50, 100, 200],\n",
    "    'max_depth': [20, 30],\n",
    "    'criterion': ['gini', 'entropy']\n",
    "}\n",
    "\n",
    "gsv_rfc = GridSearchCV(RandomForestClassifier(), param_grid, cv=5, n_jobs=-1)\n",
    "gsv_rfc.fit(train_data['features'], train_data['labels'])\n",
    "\n",
    "gsv_rfc.best_params_"
   ]
  },
  {
   "cell_type": "code",
   "execution_count": 24,
   "metadata": {},
   "outputs": [
    {
     "data": {
      "text/plain": [
       "0.718"
      ]
     },
     "execution_count": 24,
     "metadata": {},
     "output_type": "execute_result"
    }
   ],
   "source": [
    "from sklearn.ensemble import RandomForestClassifier\n",
    "\n",
    "pca3 = PCA(n_components=30)\n",
    "rfc = RandomForestClassifier(n_estimators = 400)\n",
    "model2 = Pipeline([('pca', pca3), ('rfc', rfc)])\n",
    "\n",
    "model2.fit(train_data['features'], train_data['labels'])\n",
    "model2.score(x_test, y_test)"
   ]
  },
  {
   "cell_type": "code",
   "execution_count": null,
   "metadata": {},
   "outputs": [],
   "source": [
    "\"\"\"\n",
    "n_estimators = 50 --> 0.563\n",
    "n_estimators = 100 --> 0.5775\n",
    "n_estimators = 200 --> 0.6185\n",
    "n_estimators = 400 --> 0.632\n",
    "\n",
    "\n",
    "n_components = 30 --> 0.671\n",
    "n_components = 45 --> 0.657\n",
    "n_components = 90 --> 0.6185\n",
    "n_components = 180 --> 0.5935\n",
    "\"\"\"\n"
   ]
  },
  {
   "cell_type": "code",
   "execution_count": 25,
   "metadata": {},
   "outputs": [
    {
     "data": {
      "text/plain": [
       "0.7825"
      ]
     },
     "execution_count": 25,
     "metadata": {},
     "output_type": "execute_result"
    }
   ],
   "source": []
  },
  {
   "cell_type": "code",
   "execution_count": null,
   "metadata": {},
   "outputs": [],
   "source": []
  }
 ],
 "metadata": {
  "kernelspec": {
   "display_name": "Python 3",
   "language": "python",
   "name": "python3"
  },
  "language_info": {
   "codemirror_mode": {
    "name": "ipython",
    "version": 3
   },
   "file_extension": ".py",
   "mimetype": "text/x-python",
   "name": "python",
   "nbconvert_exporter": "python",
   "pygments_lexer": "ipython3",
   "version": "3.11.0"
  }
 },
 "nbformat": 4,
 "nbformat_minor": 2
}
